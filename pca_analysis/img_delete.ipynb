{
 "cells": [
  {
   "cell_type": "code",
   "execution_count": null,
   "metadata": {},
   "outputs": [],
   "source": [
    "import numpy as np,numpy  # 数据处理的库 numpy\n",
    "import cv2   # 图像处理的库 OpenCv\n",
    "import sys\n",
    "import os"
   ]
  },
  {
   "cell_type": "code",
   "execution_count": null,
   "metadata": {},
   "outputs": [],
   "source": [
    "def delete_img(path,textpath):\n",
    "        img=cv2.imread(path)\n",
    "        cv2.namedWindow(\"image\",0)\n",
    "        cv2.imshow(\"image\",img)\n",
    "        cv2.waitKey(800)\n",
    "        if(cv2.waitKey(0)==13):\n",
    "            if(os.path.exists(path)):\n",
    "                print(\"delete\",path)\n",
    "                os.remove(path)\n",
    "            if(os.path.exists(textpath)):\n",
    "                print(\"delete\",textpath)\n",
    "                os.remove(textpath)\n",
    "        cv2.destroyAllWindows()"
   ]
  },
  {
   "cell_type": "code",
   "execution_count": null,
   "metadata": {},
   "outputs": [],
   "source": [
    "for i in range(1,202):\n",
    "    for j in range (1,22):\n",
    "        path = \"/home/fengchao/桌面/front_face/casimg_68marked/\"+str(i)+\"-\"+str(j)+\".jpg\"\n",
    "        textpath=\"/home/fengchao/桌面/front_face/casimg_68points/\"+str(i)+\"-\"+str(j)+\".txt\"\n",
    "        if(os.path.exists(path)):\n",
    "            delete_img(path,textpath)"
   ]
  },
  {
   "cell_type": "code",
   "execution_count": null,
   "metadata": {},
   "outputs": [],
   "source": []
  }
 ],
 "metadata": {
  "kernelspec": {
   "display_name": "Python 3",
   "language": "python",
   "name": "python3"
  },
  "language_info": {
   "codemirror_mode": {
    "name": "ipython",
    "version": 3
   },
   "file_extension": ".py",
   "mimetype": "text/x-python",
   "name": "python",
   "nbconvert_exporter": "python",
   "pygments_lexer": "ipython3",
   "version": "3.6.4"
  }
 },
 "nbformat": 4,
 "nbformat_minor": 2
}
