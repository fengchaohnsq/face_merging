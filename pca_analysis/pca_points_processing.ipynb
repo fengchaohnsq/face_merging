{
 "cells": [
  {
   "cell_type": "code",
   "execution_count": 1,
   "metadata": {},
   "outputs": [],
   "source": [
    "# 对静态人脸图像文件进行68个特征点的标定\n",
    "import numpy as np,numpy  # 数据处理的库 numpy\n",
    "import cv2   # 图像处理的库 OpenCv\n",
    "import sys"
   ]
  },
  {
   "cell_type": "code",
   "execution_count": 1,
   "metadata": {
    "scrolled": false
   },
   "outputs": [
    {
     "ename": "NameError",
     "evalue": "name 'np' is not defined",
     "output_type": "error",
     "traceback": [
      "\u001b[0;31m---------------------------------------------------------------------------\u001b[0m",
      "\u001b[0;31mNameError\u001b[0m                                 Traceback (most recent call last)",
      "\u001b[0;32m<ipython-input-1-5c0229f4e66d>\u001b[0m in \u001b[0;36m<module>\u001b[0;34m\u001b[0m\n\u001b[1;32m     11\u001b[0m     \u001b[0;32mreturn\u001b[0m \u001b[0mpoints\u001b[0m\u001b[0;34m\u001b[0m\u001b[0;34m\u001b[0m\u001b[0m\n\u001b[1;32m     12\u001b[0m \u001b[0;34m\u001b[0m\u001b[0m\n\u001b[0;32m---> 13\u001b[0;31m \u001b[0mav\u001b[0m\u001b[0;34m=\u001b[0m\u001b[0mreadPoints\u001b[0m\u001b[0;34m(\u001b[0m\u001b[0;34m\"/home/fengchao/桌面/facedata/ave_face.jpg.txt\"\u001b[0m\u001b[0;34m)\u001b[0m\u001b[0;34m\u001b[0m\u001b[0;34m\u001b[0m\u001b[0m\n\u001b[0m\u001b[1;32m     14\u001b[0m \u001b[0msdn1\u001b[0m\u001b[0;34m=\u001b[0m\u001b[0mreadPoints\u001b[0m\u001b[0;34m(\u001b[0m\u001b[0;34m\"/home/fengchao/桌面/facedata/3sdn1.txt\"\u001b[0m\u001b[0;34m)\u001b[0m\u001b[0;34m\u001b[0m\u001b[0;34m\u001b[0m\u001b[0m\n\u001b[1;32m     15\u001b[0m \u001b[0msdn2\u001b[0m\u001b[0;34m=\u001b[0m\u001b[0mreadPoints\u001b[0m\u001b[0;34m(\u001b[0m\u001b[0;34m\"/home/fengchao/桌面/facedata/3sdn2.txt\"\u001b[0m\u001b[0;34m)\u001b[0m\u001b[0;34m\u001b[0m\u001b[0;34m\u001b[0m\u001b[0m\n",
      "\u001b[0;32m<ipython-input-1-5c0229f4e66d>\u001b[0m in \u001b[0;36mreadPoints\u001b[0;34m(path)\u001b[0m\n\u001b[1;32m      8\u001b[0m             \u001b[0mx\u001b[0m\u001b[0;34m,\u001b[0m \u001b[0my\u001b[0m \u001b[0;34m=\u001b[0m \u001b[0mline\u001b[0m\u001b[0;34m.\u001b[0m\u001b[0msplit\u001b[0m\u001b[0;34m(\u001b[0m\u001b[0;34m)\u001b[0m\u001b[0;34m\u001b[0m\u001b[0;34m\u001b[0m\u001b[0m\n\u001b[1;32m      9\u001b[0m             \u001b[0mpoints\u001b[0m\u001b[0;34m.\u001b[0m\u001b[0mappend\u001b[0m\u001b[0;34m(\u001b[0m\u001b[0;34m(\u001b[0m\u001b[0mfloat\u001b[0m\u001b[0;34m(\u001b[0m\u001b[0mx\u001b[0m\u001b[0;34m)\u001b[0m\u001b[0;34m,\u001b[0m\u001b[0mfloat\u001b[0m\u001b[0;34m(\u001b[0m\u001b[0my\u001b[0m\u001b[0;34m)\u001b[0m\u001b[0;34m)\u001b[0m\u001b[0;34m)\u001b[0m\u001b[0;34m\u001b[0m\u001b[0;34m\u001b[0m\u001b[0m\n\u001b[0;32m---> 10\u001b[0;31m     \u001b[0mpoints\u001b[0m\u001b[0;34m=\u001b[0m\u001b[0mnp\u001b[0m\u001b[0;34m.\u001b[0m\u001b[0mmatrix\u001b[0m\u001b[0;34m(\u001b[0m\u001b[0mpoints\u001b[0m\u001b[0;34m)\u001b[0m\u001b[0;34m\u001b[0m\u001b[0;34m\u001b[0m\u001b[0m\n\u001b[0m\u001b[1;32m     11\u001b[0m     \u001b[0;32mreturn\u001b[0m \u001b[0mpoints\u001b[0m\u001b[0;34m\u001b[0m\u001b[0;34m\u001b[0m\u001b[0m\n\u001b[1;32m     12\u001b[0m \u001b[0;34m\u001b[0m\u001b[0m\n",
      "\u001b[0;31mNameError\u001b[0m: name 'np' is not defined"
     ]
    }
   ],
   "source": [
    "# 从text文本中读取特征点\n",
    "def readPoints(path) :\n",
    "    # Create an array of points.\n",
    "    points = [];\n",
    "    # Read points\n",
    "    with open(path) as file :\n",
    "        for line in file :\n",
    "            x, y = line.split()\n",
    "            points.append((float(x),float(y)))\n",
    "    points=np.matrix(points)\n",
    "    return points\n",
    "\n",
    "av=readPoints(\"/home/fengchao/桌面/facedata/ave_face.jpg.txt\")\n",
    "sdn1=readPoints(\"/home/fengchao/桌面/facedata/3sdn1.txt\")\n",
    "sdn2=readPoints(\"/home/fengchao/桌面/facedata/3sdn2.txt\")\n",
    "sdn3=readPoints(\"/home/fengchao/桌面/facedata/3sdn3.txt\")\n",
    "sdn4=readPoints(\"/home/fengchao/桌面/facedata/3sdn4.txt\")\n",
    "pc1p=av+sdn1\n",
    "pc1m=av-sdn1\n",
    "pc2p=av+sdn2\n",
    "pc2m=av-sdn2\n",
    "pc3p=av+sdn3\n",
    "pc3m=av-sdn3\n",
    "pc4p=av+sdn4\n",
    "pc4m=av-sdn4\n",
    "\n",
    "points=[]\n",
    "for i in range(0,len(pc4m)):\n",
    "    x = pc4m[i,0]\n",
    "    y = pc4m[i,1]\n",
    "    points.append((x,y))\n",
    "path=\"/home/fengchao/桌面/facedata/pca/pc4m.txt\"\n",
    "np.savetxt(path,points,fmt='%i %i')\n"
   ]
  },
  {
   "cell_type": "code",
   "execution_count": 24,
   "metadata": {},
   "outputs": [],
   "source": [
    "for i in range(1,597):\n",
    "    img= cv2.imread(\"/home/fengchao/桌面/facedata/78points/\"+str(i)+\".tif\")\n",
    "    cv2.imwrite(\"/home/fengchao/桌面/facedata/78jpg/\"+str(i)+\".jpg\",img)"
   ]
  },
  {
   "cell_type": "code",
   "execution_count": 2,
   "metadata": {},
   "outputs": [],
   "source": [
    "# 从text文本中读取特征点\n",
    "def readPoints(path) :\n",
    "    # Create an array of points.\n",
    "    points = [];\n",
    "    # Read points\n",
    "    with open(path) as file :\n",
    "        for line in file :\n",
    "            x, y = line.split()\n",
    "            points.append((float(x),float(y)))\n",
    "    points=np.matrix(points)\n",
    "    \n",
    "    return points\n",
    "\n",
    "def Zscore_points(path,filenum,save_path):\n",
    "    all_points=[]\n",
    "    all_points=np.matrix(all_points)\n",
    "    #取出filenum个文件中所有的特征点并存放到all_points的numpy矩阵中\n",
    "    for fnum in range(filenum):\n",
    "        p_path=path+str(fnum+1)+'.txt'\n",
    "        points=readPoints(p_path)\n",
    "        points=np.array(points)\n",
    "        \n",
    "        #计算特征点的均值和标准差并进行标准化\n",
    "        aver_cols_p = np.mean(points,axis=0)\n",
    "        m_points=points[:,:]-aver_cols_p#特征点标准化\n",
    "        stdn=np.std(m_points)\n",
    "        s_points=m_points/stdn\n",
    "        np.savetxt(save_path+str(fnum+1)+'.txt',s_points,fmt='%f %f')\n",
    "\n",
    "def average_points(path,filenum,save_path):\n",
    "    all_points=[]\n",
    "    all_points=np.matrix(all_points)\n",
    "    \n",
    "    #取出filenum个文件中所有的特征点并存放到all_points的numpy矩阵中\n",
    "    for fnum in range(filenum):\n",
    "        p_path=path+str(fnum+1)+'.txt'\n",
    "        points=readPoints(p_path)\n",
    "        points=np.array(points)\n",
    "        p_num=len(points)\n",
    "        if(fnum==0):\n",
    "            all_points=points\n",
    "        else:\n",
    "            all_points=np.vstack((all_points,points))\n",
    "    all_points=np.array(all_points)\n",
    "    \n",
    "    #计算所有脸的平均点\n",
    "    aver_points=np.reshape(all_points,(filenum,p_num,2))\n",
    "    aver_points=np.mean(aver_points,axis=0)\n",
    "    np.savetxt(save_path+'std_average_points.txt',aver_points,fmt='%f %f')\n",
    "    "
   ]
  },
  {
   "cell_type": "code",
   "execution_count": 82,
   "metadata": {
    "scrolled": false
   },
   "outputs": [],
   "source": [
    "path='/home/fengchao/桌面/facedata/78points/'\n",
    "save_path='/home/fengchao/桌面/facedata/78points_standard/'\n",
    "Zscore_points(path,596,save_path)\n",
    "average_points(save_path,596,save_path)\n",
    "points=readPoints(save_path+\"std_average_points.txt\")\n",
    "points=np.array(points)\n",
    "points=(points+3)*60\n",
    "np.savetxt(save_path+'average_points.txt',points,fmt='%i %i')"
   ]
  },
  {
   "cell_type": "code",
   "execution_count": null,
   "metadata": {},
   "outputs": [],
   "source": []
  }
 ],
 "metadata": {
  "kernelspec": {
   "display_name": "Python 3",
   "language": "python",
   "name": "python3"
  },
  "language_info": {
   "codemirror_mode": {
    "name": "ipython",
    "version": 3
   },
   "file_extension": ".py",
   "mimetype": "text/x-python",
   "name": "python",
   "nbconvert_exporter": "python",
   "pygments_lexer": "ipython3",
   "version": "3.6.7"
  }
 },
 "nbformat": 4,
 "nbformat_minor": 2
}
