{
 "cells": [
  {
   "cell_type": "code",
   "execution_count": 1,
   "metadata": {},
   "outputs": [],
   "source": [
    "import dlib         # 人脸识别的库 Dlib\n",
    "import numpy as np  # 数据处理的库 numpy\n",
    "import cv2         # 图像处理的库 OpenCv\n",
    "import math"
   ]
  },
  {
   "cell_type": "code",
   "execution_count": 2,
   "metadata": {},
   "outputs": [],
   "source": [
    "# Dlib 检测器和预测器\n",
    "detector = dlib.get_frontal_face_detector()\n",
    "predictor = dlib.shape_predictor('shape_predictor_68_face_landmarks.dat')"
   ]
  },
  {
   "cell_type": "code",
   "execution_count": 15,
   "metadata": {},
   "outputs": [],
   "source": [
    "#检测68个特征点并保存text，注释为将特征点绘制到图片上并保存图片\n",
    "def detect_68_points_2_text(file_num,path):\n",
    "    for i in range(1,file_num+1):\n",
    "        # 读取图像文件\n",
    "        img_rd = cv2.imread(path+str(i)+\".tif\")\n",
    "        img_gray = cv2.cvtColor(img_rd, cv2.COLOR_RGB2GRAY)\n",
    "        # 人脸数\n",
    "        faces = detector(img_gray, 1)\n",
    "        # 标 68 个点\n",
    "        if len(faces) != 0:\n",
    "            # 检测到人脸\n",
    "            for j in range(len(faces)):\n",
    "                # 取特征点坐标 Landmarks 有136组数据的二维数组，每组都是H,W坐标\n",
    "                landmarks = np.matrix([[p.x, p.y] for p in predictor(img_rd, faces[j]).parts()]) \n",
    "            if(i>21):\n",
    "                p_num=math.ceil(i/21)\n",
    "                im_num=i%21\n",
    "                if(im_num==0):\n",
    "                    im_num=21  \n",
    "            else:\n",
    "                p_num=1\n",
    "                im_num=i\n",
    "            np.savetxt(\"/home/fengchao/桌面/front_face/casimg_68points/\"+str(p_num)+\"-\"+str(im_num)+\".txt\",landmarks,fmt='%i %i')\n",
    "\n",
    "            #绘制特征点并保存\n",
    "            for k in range(len(landmarks)):\n",
    "                cv2.circle(img_rd, (landmarks[k,0],landmarks[k,1]), 1, (0, 250, 10), thickness =2)\n",
    "#             cv2.namedWindow(\"image\",0)\n",
    "#             cv2.imshow(\"image\",img_rd)\n",
    "#             cv2.waitKey(0)\n",
    "#             cv2.destroyAllWindows()\n",
    "            cv2.imwrite('/home/fengchao/桌面/front_face/casimg_68marked/'+str(p_num)+\"-\"+str(im_num)+'.jpg',img_rd)\n",
    "        \n",
    "# def detect_68_points_2_text(path,name):\n",
    "#     # 读取图像文件\n",
    "#     img_rd = cv2.imread(path+name+\".jpg\")\n",
    "#     print(path+name+\".jpg\")\n",
    "#     img_gray = cv2.cvtColor(img_rd,cv2.COLOR_RGB2GRAY)\n",
    "#     # 人脸数\n",
    "#     faces = detector(img_gray,1)\n",
    "#     print(len(faces))\n",
    "#     # 标 68 个点\n",
    "#     if len(faces) != 0:\n",
    "#         # 检测到人脸\n",
    "#         for j in range(len(faces)):\n",
    "#             # 取特征点坐标 Landmarks 有136组数据的二维数组，每组都是H,W坐标\n",
    "#             landmarks = np.matrix([[p.x, p.y] for p in predictor(img_rd, faces[j]).parts()])   \n",
    "#         np.savetxt(\"/home/fengchao/桌面/facedata/fei_68points/\"+name+\".txt\",landmarks,fmt='%i %i')\n",
    "\n",
    "#         #绘制特征点并保存\n",
    "#         for i in range(len(landmarks)):\n",
    "#             cv2.circle(img_rd, (landmarks[i,0],landmarks[i,1]), 1, (0, 250, 10), thickness =2)\n",
    "#         cv2.namedWindow(\"image\",0)\n",
    "#         cv2.imshow(\"image\",img_rd)\n",
    "#         cv2.waitKey(0)\n",
    "#         cv2.destroyAllWindows()\n",
    "#         cv2.imwrite('/home/fengchao/图片/detected_face.jpg',img_rd)\n",
    "\n",
    "def img_name_processed(file_num,path):\n",
    "    for i in range(1,file_num+1):\n",
    "        # 读取图像文件\n",
    "        img_rd = cv2.imread(path+str(i)+\".tif\")\n",
    "        if(i>21):\n",
    "            p_num=math.ceil(i/21)\n",
    "            im_num=i%21\n",
    "            if(im_num==0):\n",
    "                im_num=21  \n",
    "        else:\n",
    "            p_num=1\n",
    "            im_num=i\n",
    "        cv2.imwrite('/home/fengchao/桌面/front_face/cas_img/'+str(p_num)+\"-\"+str(im_num)+'.jpg',img_rd)"
   ]
  },
  {
   "cell_type": "code",
   "execution_count": 10,
   "metadata": {},
   "outputs": [],
   "source": [
    "path=\"/home/fengchao/桌面/front_face/casimg/\"\n",
    "file_num = 4221\n",
    "detect_68_points_2_text(file_num,path)"
   ]
  },
  {
   "cell_type": "code",
   "execution_count": 16,
   "metadata": {},
   "outputs": [],
   "source": [
    "path=\"/home/fengchao/桌面/front_face/casimg/\"\n",
    "file_num = 4221\n",
    "img_name_processed(file_num,path)"
   ]
  },
  {
   "cell_type": "code",
   "execution_count": null,
   "metadata": {},
   "outputs": [],
   "source": []
  }
 ],
 "metadata": {
  "kernelspec": {
   "display_name": "Python 3",
   "language": "python",
   "name": "python3"
  },
  "language_info": {
   "codemirror_mode": {
    "name": "ipython",
    "version": 3
   },
   "file_extension": ".py",
   "mimetype": "text/x-python",
   "name": "python",
   "nbconvert_exporter": "python",
   "pygments_lexer": "ipython3",
   "version": "3.6.4"
  }
 },
 "nbformat": 4,
 "nbformat_minor": 2
}
