{
 "cells": [
  {
   "cell_type": "code",
   "execution_count": 1,
   "metadata": {},
   "outputs": [],
   "source": [
    "import cv2\n",
    "import numpy as np\n",
    "import math"
   ]
  },
  {
   "cell_type": "code",
   "execution_count": 2,
   "metadata": {},
   "outputs": [],
   "source": [
    "# 从text文本中读取特征点\n",
    "def read_points(path):\n",
    "    # Create an array of points.\n",
    "    points = []\n",
    "    # Read points\n",
    "    with open(path) as file :\n",
    "        for line in file :\n",
    "            x, y = line.split()\n",
    "            points.append((int(x), int(y)))\n",
    "    return points\n",
    "#鼠标事件点击获取特征点坐标\n",
    "def on_EVENT_LBUTTONDOWN(event, x, y, flags, param):\n",
    "    if event == cv2.EVENT_LBUTTONDOWN:\n",
    "        xy = \"%i %i\" % (x, y)\n",
    "#         print (xy)\n",
    "        cv2.circle(img, (x, y), 1, (0, 255, 0), thickness = 1)\n",
    "#         cv2.putText(img, xy, (x, y), cv2.FONT_HERSHEY_PLAIN,\n",
    "#                     1.0, (0,255,0), thickness = 1)\n",
    "        cv2.imshow(\"image\",img)\n",
    "        coordinates.append((int(x), int(y)))\n",
    "\n",
    "#绘制已有特征点并添加新的特征点\n",
    "def add_new_points(path,name,landmarks_num):\n",
    "    img = cv2.imread(path+name+\".tif\")\n",
    "    coordinates=read_points(path+name+\".txt\")\n",
    "    cv2.namedWindow(\"image\",0)\n",
    "    for i in range(len(coordinates)/2):\n",
    "        cv2.circle(img, (coordinates[i][0],coordinates[i][1]), 1, (0, 255, 0), thickness =1)\n",
    "    cv2.setMouseCallback(\"image\", on_EVENT_LBUTTONDOWN)\n",
    "    cv2.imshow(\"image\", img)\n",
    "    while(len(coordinates)/2<landmarks_num):\n",
    "        try:\n",
    "            cv2.waitKey(100)\n",
    "        except Exception:\n",
    "            cv2.destroyWindow(\"image\")\n",
    "            break    \n",
    "    coordinates=np.array(coordinates).reshape(len(coordinates)/2,2)\n",
    "    np.savetxt(\"/home/fengchao/桌面/78points/\"+name+\".txt\",np.matrix(coordinates),fmt='%i %i')\n"
   ]
  },
  {
   "cell_type": "code",
   "execution_count": null,
   "metadata": {},
   "outputs": [],
   "source": [
    "path=\"/home/fengchao/桌面/facedata/\"\n",
    "name=\"h703\"\n",
    "landmarks_num=78\n",
    "# add_new_points(path,name,landmarks_num)\n",
    "\n",
    "img =cv2.imread(path+\"hf/\"+name+\".tif\")\n",
    "coordinates=read_points(path+\"68points/\"+name+\".txt\")\n",
    "\n",
    "cv2.namedWindow(\"image\",0)\n",
    "for i in range(len(coordinates)):\n",
    "    cv2.circle(img, (coordinates[i][0],coordinates[i][1]), 1, (0, 255, 0), thickness =1)\n",
    "cv2.setMouseCallback(\"image\", on_EVENT_LBUTTONDOWN)\n",
    "cv2.imshow(\"image\", img)\n",
    "while(len(coordinates)<landmarks_num):\n",
    "    try:\n",
    "        cv2.waitKey(100)\n",
    "    except Exception:\n",
    "        cv2.destroyWindow(\"image\")\n",
    "        break    \n",
    "        \n",
    "coordinates=np.array(coordinates).reshape(len(coordinates),2)\n",
    "np.savetxt(\"/home/fengchao/桌面/facedata/78points/\"+name+\".txt\",np.matrix(coordinates),fmt='%i %i')\n",
    "coordinates=[]\n",
    "cv2.destroyAllWindows()"
   ]
  },
  {
   "cell_type": "code",
   "execution_count": 3,
   "metadata": {},
   "outputs": [],
   "source": [
    "for k in range(599,600):\n",
    "    path=\"/home/fengchao/桌面/facedata/\"\n",
    "    name=\"h\"\n",
    "    landmarks_num=78\n",
    "    # add_new_points(path,name,landmarks_num)\n",
    "\n",
    "    img =cv2.imread(path+\"hf/\"+name+str(k)+\".tif\")\n",
    "    coordinates=read_points(path+\"68points/\"+name+str(k)+\".txt\")\n",
    "\n",
    "    cv2.namedWindow(\"image\",0)\n",
    "    for i in range(len(coordinates)):\n",
    "        cv2.circle(img, (coordinates[i][0],coordinates[i][1]), 1, (0, 255, 0), thickness =1)\n",
    "    cv2.setMouseCallback(\"image\", on_EVENT_LBUTTONDOWN)\n",
    "    cv2.imshow(\"image\", img)\n",
    "    while(len(coordinates)<landmarks_num):\n",
    "        try:\n",
    "            cv2.waitKey(100)\n",
    "        except Exception:\n",
    "            cv2.destroyWindow(\"image\")\n",
    "            break    \n",
    "\n",
    "    coordinates=np.array(coordinates).reshape(len(coordinates),2)\n",
    "    np.savetxt(\"/home/fengchao/桌面/facedata/78points/\"+name+str(k)+\".txt\",np.matrix(coordinates),fmt='%i %i')\n",
    "    coordinates=[]\n",
    "    cv2.destroyAllWindows()"
   ]
  },
  {
   "cell_type": "code",
   "execution_count": null,
   "metadata": {},
   "outputs": [],
   "source": []
  }
 ],
 "metadata": {
  "kernelspec": {
   "display_name": "Python 3",
   "language": "python",
   "name": "python3"
  },
  "language_info": {
   "codemirror_mode": {
    "name": "ipython",
    "version": 3
   },
   "file_extension": ".py",
   "mimetype": "text/x-python",
   "name": "python",
   "nbconvert_exporter": "python",
   "pygments_lexer": "ipython3",
   "version": "3.6.2"
  }
 },
 "nbformat": 4,
 "nbformat_minor": 2
}
