{
 "cells": [
  {
   "cell_type": "code",
   "execution_count": 4,
   "metadata": {},
   "outputs": [],
   "source": [
    "import cv2\n",
    "import  numpy as np\n",
    "np.set_printoptions(threshold=np.inf)\n",
    "img=cv2.imread('/home/fengchao/桌面/facedata/78points_shapefree/1.jpg')\n",
    "# img_back=cv2.imread('back.jpg')\n",
    "## 日常缩放\n",
    "# rows,cols,channels = img_back.shape\n",
    "# img_back=cv2.resize(img_back,None,fx=0.7,fy=0.7)\n",
    "# cv2.imshow('img_back',img_back)\n",
    "\n",
    "rows,cols,channels = img.shape\n",
    "# img=cv2.resize(img,None,fx=0.4,fy=0.4)\n",
    "cv2.imshow('img',img)\n",
    "cv2.waitKey(0)\n",
    "cv2.destroyAllWindows()"
   ]
  },
  {
   "cell_type": "code",
   "execution_count": 5,
   "metadata": {},
   "outputs": [
    {
     "name": "stdout",
     "output_type": "stream",
     "text": [
      "(480, 360, 3)\n"
     ]
    }
   ],
   "source": [
    "#转换hsv\n",
    "hsv=cv2.cvtColor(img,cv2.COLOR_BGR2HSV)\n",
    "cv2.imshow('img',hsv)\n",
    "cv2.waitKey(0)\n",
    "cv2.destroyAllWindows()\n",
    "print(hsv.shape)"
   ]
  },
  {
   "cell_type": "code",
   "execution_count": 6,
   "metadata": {},
   "outputs": [
    {
     "name": "stdout",
     "output_type": "stream",
     "text": [
      "(480, 360)\n"
     ]
    }
   ],
   "source": [
    "#获取mask\n",
    "# lower_blue=np.array([78,43,46])\n",
    "# upper_blue=np.array([110,255,255])\n",
    "black=np.array([0,0,0])\n",
    "mask = cv2.inRange(hsv,black,black,255)#将黑色全部标记出来\n",
    "print(mask.shape)\n",
    "cv2.imshow('Mask', mask)\n",
    "cv2.waitKey(0)\n",
    "cv2.destroyAllWindows()"
   ]
  },
  {
   "cell_type": "code",
   "execution_count": 3,
   "metadata": {},
   "outputs": [
    {
     "ename": "SyntaxError",
     "evalue": "invalid character in identifier (<ipython-input-3-6edc58c0fc11>, line 11)",
     "output_type": "error",
     "traceback": [
      "\u001b[0;36m  File \u001b[0;32m\"<ipython-input-3-6edc58c0fc11>\"\u001b[0;36m, line \u001b[0;32m11\u001b[0m\n\u001b[0;31m    1.首先对图片进行对比，记录下黑色点的像素坐标，\u001b[0m\n\u001b[0m                           ^\u001b[0m\n\u001b[0;31mSyntaxError\u001b[0m\u001b[0;31m:\u001b[0m invalid character in identifier\n"
     ]
    }
   ],
   "source": [
    "#遍历替换\n",
    "1.首先对图片进行对比，记录下黑色点的像素坐标\n",
    "2.从原图中去除黑色点像素坐标的像素值，保存到新的图片矩阵中\n",
    "3.根据新矩阵生成新数组\n"
   ]
  },
  {
   "cell_type": "code",
   "execution_count": null,
   "metadata": {},
   "outputs": [],
   "source": []
  }
 ],
 "metadata": {
  "kernelspec": {
   "display_name": "Python 3",
   "language": "python",
   "name": "python3"
  },
  "language_info": {
   "codemirror_mode": {
    "name": "ipython",
    "version": 3
   },
   "file_extension": ".py",
   "mimetype": "text/x-python",
   "name": "python",
   "nbconvert_exporter": "python",
   "pygments_lexer": "ipython3",
   "version": "3.6.7"
  }
 },
 "nbformat": 4,
 "nbformat_minor": 2
}
