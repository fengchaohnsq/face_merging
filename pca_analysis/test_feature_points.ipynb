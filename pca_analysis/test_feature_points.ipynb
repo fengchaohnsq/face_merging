{
 "cells": [
  {
   "cell_type": "code",
   "execution_count": 1,
   "metadata": {},
   "outputs": [],
   "source": [
    "import cv2\n",
    "import numpy as np\n",
    "import math"
   ]
  },
  {
   "cell_type": "code",
   "execution_count": 8,
   "metadata": {},
   "outputs": [],
   "source": [
    "# 从text文本中读取特征点\n",
    "def read_points(path):\n",
    "    # Create an array of points.\n",
    "    points = []\n",
    "    # Read points\n",
    "    with open(path) as file :\n",
    "        for line in file :\n",
    "            x, y = line.split()\n",
    "            points.append((int(x), int(y)))\n",
    "    return points\n",
    "\n",
    "#给图片绘制圆点\n",
    "def draw_point(points,img_path,save_path):\n",
    "    img=cv2.imread(img_path)\n",
    "#     h, w = img.shape[:2]\n",
    "#     center = (w//2, h//2) \n",
    "#     cv2.circle(img, center, 1, (255, 255, 0), thickness = 10) #绘出图片中心点\n",
    "    for i in range(len(points)):\n",
    "        cv2.circle(img, (points[i][0],points[i][1]), 1, (0, 255, 0), thickness =1)\n",
    "\n",
    "    cv2.namedWindow(\"image\",0)\n",
    "    cv2.imshow(\"image\",img)\n",
    "    cv2.waitKey(0)\n",
    "    cv2.destroyAllWindows()\n",
    "    cv2.imwrite(save_path,img)\n",
    "\n",
    "#两组特征点对比\n",
    "def compare_point(points_ori,points,img_path):\n",
    "    img=cv2.imread(img_path)\n",
    "    for i in range(len(points_ori)):\n",
    "        cv2.circle(img, (points_ori[i][0],points_ori[i][1]), 1, (0, 0, 255), thickness = 5)\n",
    "        \n",
    "    for i in range(len(points)):\n",
    "        cv2.circle(img, (points[i][0],points[i][1]), 1, (0, 255, 0), thickness = 5)\n",
    "        \n",
    "    cv2.circle(img, (1200,1200), 1, (255, 255, 0), thickness = 10)\n",
    "    cv2.namedWindow(\"image\",0)\n",
    "    cv2.imshow(\"image\",img)\n",
    "    cv2.waitKey(0)\n",
    "    cv2.destroyAllWindows()\n",
    "    \n",
    "#计算6点特征点\n",
    "def face_5points(path,save_path):\n",
    "    points68=read_points(path)\n",
    "    points68=np.array(points68)\n",
    "    points6=[]\n",
    "    points6.append(np.mean(points68[17:21,:],axis=0))\n",
    "    points6.append(np.mean(points68[22:26,:],axis=0))\n",
    "    points6.append(np.mean(points68[36:41,:],axis=0))\n",
    "    points6.append(np.mean(points68[42:47,:],axis=0))\n",
    "    points6.append(np.mean(points68[27:35,:],axis=0))\n",
    "    points6.append(np.mean(points68[49:67,:],axis=0))\n",
    "    np.savetxt(save_path,points6,fmt='%i %i')"
   ]
  },
  {
   "cell_type": "code",
   "execution_count": 9,
   "metadata": {},
   "outputs": [],
   "source": [
    "# #未旋转的点和图片\n",
    "# points=read_points(\"/home/fengchao/桌面/facedata/pca/pc4m.txt\")\n",
    "# img_path=\"/home/fengchao/桌面/facedata/ave_face.jpg\"\n",
    "# savepath=\"/home/fengchao/桌面/facedata/pca/pc4m.jpg\"\n",
    "# #旋转过的点和图片\n",
    "# points1=read_points(\"/home/fengchao/桌面/facedata/pca/pc4p.txt\")\n",
    "# img_path1=\"/home/fengchao/桌面/facedata/ave_face.jpg\"\n",
    "# savepath1=\"/home/fengchao/桌面/facedata/pca/pc4p.jpg\"\n",
    "# draw_point(points,img_path,savepath)\n",
    "# draw_point(points1,img_path1,savepath1)\n",
    "face_5points(\"/home/fengchao/桌面/facedata/78points/1.txt\",\"/home/fengchao/桌面/facedata/6points.txt\")\n",
    "points=read_points(\"/home/fengchao/桌面/facedata/78points/1.txt\")\n",
    "points1=read_points(\"/home/fengchao/桌面/facedata/6points.txt\")\n",
    "img_path1=\"/home/fengchao/桌面/facedata/78points/1.jpg\"\n",
    "compare_point(points,points1,img_path1)"
   ]
  },
  {
   "cell_type": "code",
   "execution_count": null,
   "metadata": {},
   "outputs": [],
   "source": [
    "for i in range(597,599):\n",
    "    points=read_points(\"/home/fengchao/桌面/facedata/78points/h\"+str(i)+\".txt\")\n",
    "    img_path=\"/home/fengchao/桌面/facedata/hf/h\"+str(i)+\".tif\"\n",
    "    draw_point(points,img_path,i)"
   ]
  },
  {
   "cell_type": "code",
   "execution_count": null,
   "metadata": {},
   "outputs": [],
   "source": []
  }
 ],
 "metadata": {
  "kernelspec": {
   "display_name": "Python 3",
   "language": "python",
   "name": "python3"
  },
  "language_info": {
   "codemirror_mode": {
    "name": "ipython",
    "version": 3
   },
   "file_extension": ".py",
   "mimetype": "text/x-python",
   "name": "python",
   "nbconvert_exporter": "python",
   "pygments_lexer": "ipython3",
   "version": "3.6.4"
  }
 },
 "nbformat": 4,
 "nbformat_minor": 2
}
