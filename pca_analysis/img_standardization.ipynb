{
 "cells": [
  {
   "cell_type": "code",
   "execution_count": 1,
   "metadata": {},
   "outputs": [],
   "source": [
    "import numpy as np,numpy  \n",
    "import cv2\n",
    "import sys\n",
    "import tensorflow as tf\n",
    "from time import time\n",
    "import logging\n",
    "import matplotlib.pyplot as plt\n"
   ]
  },
  {
   "cell_type": "code",
   "execution_count": null,
   "metadata": {
    "scrolled": true
   },
   "outputs": [
    {
     "name": "stdout",
     "output_type": "stream",
     "text": [
      "WARNING:tensorflow:From /home/fengchao/anaconda3/envs/pca/lib/python3.6/site-packages/tensorflow/python/ops/control_flow_ops.py:3632: colocate_with (from tensorflow.python.framework.ops) is deprecated and will be removed in a future version.\n",
      "Instructions for updating:\n",
      "Colocations handled automatically by placer.\n",
      "WARNING:tensorflow:From /home/fengchao/anaconda3/envs/pca/lib/python3.6/site-packages/tensorflow/python/ops/image_ops_impl.py:1241: div (from tensorflow.python.ops.math_ops) is deprecated and will be removed in a future version.\n",
      "Instructions for updating:\n",
      "Deprecated in favor of operator or tf.math.divide.\n"
     ]
    }
   ],
   "source": [
    "for i in range(1,597):\n",
    "    img = cv2.imread(\"/home/fengchao/桌面/facedata/78points_shapefree/\"+str(i)+\".jpg\")\n",
    "    std_img=tf.image.per_image_standardization(img)\n",
    "    with tf.Session() as sess:\n",
    "        result=sess.run(std_img)\n",
    "        result=result*0.18+0.35\n",
    "#         print(\"result\",result)  \n",
    "#     result=np.zeros(img.shape,dtype=np.float32)\n",
    "#     cv2.normalize(img,result, 0, 1, cv2.NORM_MINMAX, cv2.CV_32F)\n",
    "#     print(result)\n",
    "\n",
    "    cv2.imshow('result',result)\n",
    "    cv2.waitKey(0)\n",
    "    cv2.destroyAllWindows()\n",
    "    cv2.imwrite(\"/home/fengchao/桌面/facedata/78points_shapefree_standard/\"+str(i)+\".jpg\",result)"
   ]
  },
  {
   "cell_type": "code",
   "execution_count": null,
   "metadata": {},
   "outputs": [],
   "source": []
  },
  {
   "cell_type": "code",
   "execution_count": null,
   "metadata": {},
   "outputs": [],
   "source": []
  }
 ],
 "metadata": {
  "kernelspec": {
   "display_name": "Python 3",
   "language": "python",
   "name": "python3"
  },
  "language_info": {
   "codemirror_mode": {
    "name": "ipython",
    "version": 3
   },
   "file_extension": ".py",
   "mimetype": "text/x-python",
   "name": "python",
   "nbconvert_exporter": "python",
   "pygments_lexer": "ipython3",
   "version": "3.6.7"
  }
 },
 "nbformat": 4,
 "nbformat_minor": 2
}
