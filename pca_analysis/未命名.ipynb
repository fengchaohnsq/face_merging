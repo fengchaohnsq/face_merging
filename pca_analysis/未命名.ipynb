{
 "cells": [
  {
   "cell_type": "code",
   "execution_count": 3,
   "metadata": {},
   "outputs": [],
   "source": [
    "import numpy as np\n",
    "import cv2"
   ]
  },
  {
   "cell_type": "code",
   "execution_count": 5,
   "metadata": {},
   "outputs": [
    {
     "name": "stdout",
     "output_type": "stream",
     "text": [
      "49230\n",
      "49230\n"
     ]
    },
    {
     "data": {
      "text/plain": [
       "True"
      ]
     },
     "execution_count": 5,
     "metadata": {},
     "output_type": "execute_result"
    }
   ],
   "source": [
    "#对图片进行face_mask预处理\n",
    "img = cv2.imread(\"/home/fengchao/桌面/facedata/average_face.jpg\")\n",
    "rows,cols,channels = img.shape\n",
    "hsv=cv2.cvtColor(img,cv2.COLOR_BGR2HSV)\n",
    "black=np.array([0,0,0])\n",
    "mask = cv2.inRange(hsv,black,black)#将黑色全部标记出来，输出成灰度图\n",
    "coordinates=[]\n",
    "for j in range(rows):\n",
    "    for k in range(cols):\n",
    "        if(mask[j,k]==0):\n",
    "            coordinates.append((j,k))\n",
    "coordinates=np.array(coordinates)#存放mask在图片中的坐标\n",
    "\n",
    "for i in range(1,597):\n",
    "    img = cv2.imread(\"/home/fengchao/桌面/facedata/78points_shapefree/\"+str(i)+\".jpg\")\n",
    "    new_img=[]\n",
    "    for j in range(rows):\n",
    "        for k in range(cols):\n",
    "                if(mask[j,k]==0):\n",
    "                    new_img.append((img[j,k,0],img[j,k,1],img[j,k,2]))\n",
    "    img=np.array(new_img)#shape (49367, 3)\n",
    "    if(i==1):\n",
    "        all_img=img\n",
    "    else:\n",
    "        all_img=all_img+img\n",
    "all_img=np.uint8(all_img/596)\n",
    "img=np.full((480,360,3),255)\n",
    "img=np.uint8(img)\n",
    "print(len(coordinates))\n",
    "print(len(all_img))\n",
    "for i in range(len(coordinates)):\n",
    "    img[coordinates[i,0],coordinates[i,1],0]=all_img[i,0]\n",
    "    img[coordinates[i,0],coordinates[i,1],1]=all_img[i,1]\n",
    "    img[coordinates[i,0],coordinates[i,1],2]=all_img[i,2]\n",
    "\n",
    "cv2.imshow(\"all image\",img)\n",
    "cv2.waitKey(0)\n",
    "cv2.destroyAllWindows()\n",
    "cv2.imwrite(\"/home/fengchao/桌面/averageface.jpg\",img)"
   ]
  },
  {
   "cell_type": "code",
   "execution_count": 5,
   "metadata": {},
   "outputs": [
    {
     "data": {
      "text/plain": [
       "True"
      ]
     },
     "execution_count": 5,
     "metadata": {},
     "output_type": "execute_result"
    }
   ],
   "source": [
    "path=\"/home/fengchao/桌面/facedata/78points_shapefree/\"\n",
    "for i in range (1,597):\n",
    "    img=cv2.imread(path+str(i)+'.jpg')\n",
    "    if(i==1):\n",
    "        all_img=img\n",
    "    else:\n",
    "        all_img=all_img+img\n",
    "# np.set_printoptions(threshold=np.inf)#print全部信息\n",
    "# print(all_img)\n",
    "all_img=np.uint8(all_img/596)\n",
    "\n",
    "cv2.imshow(\"all image\",all_img)\n",
    "cv2.waitKey(0)\n",
    "cv2.destroyAllWindows()\n",
    "cv2.imwrite(\"/home/fengchao/桌面/averageface.jpg\",all_img)"
   ]
  },
  {
   "cell_type": "code",
   "execution_count": null,
   "metadata": {},
   "outputs": [],
   "source": []
  }
 ],
 "metadata": {
  "kernelspec": {
   "display_name": "Python 3",
   "language": "python",
   "name": "python3"
  },
  "language_info": {
   "codemirror_mode": {
    "name": "ipython",
    "version": 3
   },
   "file_extension": ".py",
   "mimetype": "text/x-python",
   "name": "python",
   "nbconvert_exporter": "python",
   "pygments_lexer": "ipython3",
   "version": "3.6.7"
  }
 },
 "nbformat": 4,
 "nbformat_minor": 2
}
