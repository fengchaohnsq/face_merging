{
 "cells": [
  {
   "cell_type": "code",
   "execution_count": null,
   "metadata": {},
   "outputs": [],
   "source": [
    "import cv2  \n",
    "import numpy as np  "
   ]
  },
  {
   "cell_type": "code",
   "execution_count": null,
   "metadata": {},
   "outputs": [],
   "source": [
    "img = cv2.imread(\"/home/fengchao/桌面/MonkeyFaceMerging/Rhesus数据库/6.png\")\n",
    "#print img.shape\n",
    "coordinates=[]"
   ]
  },
  {
   "cell_type": "code",
   "execution_count": null,
   "metadata": {},
   "outputs": [],
   "source": [
    "#转换灰度图并保存，此步骤可选择性的运行\n",
    "img=cv2.cvtColor(img,cv2.COLOR_BGR2GRAY)\n",
    "cv2.imwrite('/home/fengchao/桌面/MonkeyFaceMerging/Rhesus数据库/gray6.png', img)"
   ]
  },
  {
   "cell_type": "code",
   "execution_count": null,
   "metadata": {},
   "outputs": [],
   "source": [
    "def on_EVENT_LBUTTONDOWN(event, x, y, flags, param):\n",
    "    if event == cv2.EVENT_LBUTTONDOWN:\n",
    "        xy = \"%i %i\" % (x, y)\n",
    "        print (xy)\n",
    "        cv2.circle(img, (x, y), 1, (255, 255, 0), thickness = -1)\n",
    "        cv2.putText(img, xy, (x, y), cv2.FONT_HERSHEY_PLAIN,\n",
    "                    1.0, (0,255,0), thickness = 1)\n",
    "        cv2.imshow(\"image\", img)\n",
    "        coordinates.append(x)\n",
    "        coordinates.append(y)"
   ]
  },
  {
   "cell_type": "code",
   "execution_count": null,
   "metadata": {},
   "outputs": [],
   "source": [
    "cv2.namedWindow(\"image\",0)\n",
    "cv2.setMouseCallback(\"image\", on_EVENT_LBUTTONDOWN)\n",
    "cv2.imshow(\"image\", img) \n",
    "index=0\n",
    "while(len(coordinates)/2<6):\n",
    "    index=index+1\n",
    "    try:\n",
    "        cv2.waitKey(100)\n",
    "    except Exception:\n",
    "        cv2.destroyWindow(\"image\")\n",
    "        break    \n",
    "coordinates=np.array(coordinates).reshape(len(coordinates)/2,2)\n",
    "#print(coordinates)\n",
    "np.savetxt(\"/home/fengchao/桌面/monkey1.png.txt\",np.matrix(coordinates),fmt='%i %i')\n",
    "coordinates=[]\n",
    "cv2.destroyAllWindows()\n"
   ]
  }
 ],
 "metadata": {
  "kernelspec": {
   "display_name": "Python 3",
   "language": "python",
   "name": "python3"
  },
  "language_info": {
   "codemirror_mode": {
    "name": "ipython",
    "version": 3
   },
   "file_extension": ".py",
   "mimetype": "text/x-python",
   "name": "python",
   "nbconvert_exporter": "python",
   "pygments_lexer": "ipython3",
   "version": "3.6.2"
  }
 },
 "nbformat": 4,
 "nbformat_minor": 2
}
