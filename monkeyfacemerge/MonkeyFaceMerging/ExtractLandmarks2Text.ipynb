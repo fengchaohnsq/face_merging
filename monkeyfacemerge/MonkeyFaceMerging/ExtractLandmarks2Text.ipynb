{
 "cells": [
  {
   "cell_type": "code",
   "execution_count": 1,
   "metadata": {},
   "outputs": [],
   "source": [
    "import cv2  \n",
    "import numpy as np  "
   ]
  },
  {
   "cell_type": "code",
   "execution_count": 2,
   "metadata": {},
   "outputs": [],
   "source": [
    "img = cv2.imread(\"/home/fengchao/桌面/MonkeyFaceMerging/processedimg/m1.jpg\")\n",
    "#print img.shape\n",
    "coordinates=[]"
   ]
  },
  {
   "cell_type": "code",
   "execution_count": null,
   "metadata": {},
   "outputs": [],
   "source": [
    "#转换灰度图并保存，此步骤可选择性的运行\n",
    "img=cv2.cvtColor(img,cv2.COLOR_BGR2GRAY)\n",
    "cv2.imwrite('/home/fengchao/桌面/MonkeyFaceMerging/Rhesus数据库/gray6.png', img)"
   ]
  },
  {
   "cell_type": "code",
   "execution_count": 3,
   "metadata": {},
   "outputs": [],
   "source": [
    "def on_EVENT_LBUTTONDOWN(event, x, y, flags, param):\n",
    "    if event == cv2.EVENT_LBUTTONDOWN:\n",
    "        xy = \"%i %i\" % (x, y)\n",
    "        print (xy)\n",
    "        cv2.circle(img, (x, y), 1, (255, 255, 0), thickness = -1)\n",
    "        cv2.putText(img, xy, (x, y), cv2.FONT_HERSHEY_PLAIN,\n",
    "                    1.0, (0,255,0), thickness = 1)\n",
    "        cv2.imshow(\"image\", img)\n",
    "        coordinates.append(x)\n",
    "        coordinates.append(y)"
   ]
  },
  {
   "cell_type": "code",
   "execution_count": 4,
   "metadata": {},
   "outputs": [
    {
     "name": "stdout",
     "output_type": "stream",
     "text": [
      "545 677\n",
      "639 935\n",
      "753 1133\n",
      "818 1366\n",
      "794 1640\n",
      "799 1887\n",
      "848 2079\n",
      "1035 2210\n",
      "1182 2239\n",
      "1345 2199\n",
      "1515 2069\n",
      "1621 1871\n",
      "1608 1624\n",
      "1583 1361\n",
      "1665 1119\n",
      "1792 927\n",
      "1879 683\n",
      "615 539\n",
      "718 463\n",
      "829 431\n",
      "938 455\n",
      "1041 509\n",
      "1326 526\n",
      "1442 444\n",
      "1575 431\n",
      "1711 482\n",
      "1776 555\n",
      "1223 759\n",
      "1225 924\n",
      "1217 1187\n",
      "1220 1385\n",
      "1041 1415\n",
      "1111 1499\n",
      "1206 1572\n",
      "1296 1513\n",
      "1364 1421\n",
      "696 667\n",
      "794 596\n",
      "897 591\n",
      "1052 734\n",
      "922 789\n",
      "778 781\n",
      "1342 751\n",
      "1467 629\n",
      "1605 607\n",
      "1711 691\n",
      "1635 802\n",
      "1507 810\n",
      "854 1892\n",
      "957 1803\n",
      "1082 1770\n",
      "1190 1778\n",
      "1326 1776\n",
      "1469 1797\n",
      "1597 1868\n",
      "1477 2066\n",
      "1358 2123\n",
      "1220 2150\n",
      "1087 2139\n",
      "954 2085\n",
      "884 1906\n",
      "1095 1865\n",
      "1206 1854\n",
      "1355 1873\n",
      "1537 1887\n",
      "1355 1979\n",
      "1223 1985\n",
      "1092 1979\n"
     ]
    },
    {
     "name": "stderr",
     "output_type": "stream",
     "text": [
      "/home/fengchao/anaconda3/envs/facemerge/lib/python3.6/site-packages/ipykernel_launcher.py:12: DeprecationWarning: using a non-integer number instead of an integer will result in an error in the future\n",
      "  if sys.path[0] == '':\n"
     ]
    }
   ],
   "source": [
    "cv2.namedWindow(\"image\",0)\n",
    "cv2.setMouseCallback(\"image\", on_EVENT_LBUTTONDOWN)\n",
    "cv2.imshow(\"image\", img) \n",
    "index=0\n",
    "while(len(coordinates)/2<68):\n",
    "    index=index+1\n",
    "    try:\n",
    "        cv2.waitKey(100)\n",
    "    except Exception:\n",
    "        cv2.destroyWindow(\"image\")\n",
    "        break    \n",
    "coordinates=np.array(coordinates).reshape(len(coordinates)/2,2)\n",
    "#print(coordinates)\n",
    "np.savetxt(\"/home/fengchao/桌面/m1.txt\",np.matrix(coordinates),fmt='%i %i')\n",
    "coordinates=[]\n",
    "cv2.destroyAllWindows()\n"
   ]
  },
  {
   "cell_type": "code",
   "execution_count": null,
   "metadata": {},
   "outputs": [],
   "source": []
  }
 ],
 "metadata": {
  "kernelspec": {
   "display_name": "Python 3",
   "language": "python",
   "name": "python3"
  },
  "language_info": {
   "codemirror_mode": {
    "name": "ipython",
    "version": 3
   },
   "file_extension": ".py",
   "mimetype": "text/x-python",
   "name": "python",
   "nbconvert_exporter": "python",
   "pygments_lexer": "ipython3",
   "version": "3.6.2"
  }
 },
 "nbformat": 4,
 "nbformat_minor": 2
}
