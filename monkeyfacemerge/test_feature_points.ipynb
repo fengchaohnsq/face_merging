{
 "cells": [
  {
   "cell_type": "code",
   "execution_count": 2,
   "metadata": {},
   "outputs": [],
   "source": [
    "import cv2\n",
    "import numpy as np\n",
    "import math"
   ]
  },
  {
   "cell_type": "code",
   "execution_count": 12,
   "metadata": {},
   "outputs": [],
   "source": [
    "# 从text文本中读取特征点\n",
    "def read_points(path):\n",
    "    # Create an array of points.\n",
    "    points = []\n",
    "    # Read points\n",
    "    with open(path) as file :\n",
    "        for line in file :\n",
    "            x, y = line.split()\n",
    "            points.append((int(x), int(y)))\n",
    "    return points\n",
    "\n",
    "#给图片绘制圆点\n",
    "def draw_point(points,img_path):\n",
    "    img=cv2.imread(img_path)\n",
    "    for i in range(len(points)):\n",
    "        cv2.circle(img, (points[i][0],points[i][1]), 1, (0, 255, 0), thickness = 5)\n",
    "    cv2.circle(img, (1200,1200), 1, (255, 255, 0), thickness = 10)\n",
    "    cv2.namedWindow(\"image\",0)\n",
    "    cv2.imshow(\"image\",img)\n",
    "    cv2.waitKey(0)\n",
    "    cv2.destroyAllWindows()\n",
    "\n",
    "#两组特征点对比\n",
    "def compare_point(points_ori,points,img_path):\n",
    "    img=cv2.imread(img_path)\n",
    "    for i in range(len(points_ori)):\n",
    "        cv2.circle(img, (points_ori[i][0],points_ori[i][1]), 1, (0, 0, 255), thickness = 5)\n",
    "        \n",
    "    for i in range(len(points)):\n",
    "        cv2.circle(img, (points[i][0],points[i][1]), 1, (0, 255, 0), thickness = 5)\n",
    "        \n",
    "    cv2.circle(img, (1200,1200), 1, (255, 255, 0), thickness = 10)\n",
    "    cv2.namedWindow(\"image\",0)\n",
    "    cv2.imshow(\"image\",img)\n",
    "    cv2.waitKey(0)\n",
    "    cv2.destroyAllWindows()"
   ]
  },
  {
   "cell_type": "code",
   "execution_count": 13,
   "metadata": {},
   "outputs": [],
   "source": [
    "#未旋转的点和图片\n",
    "points=read_points(\"/home/fengchao/桌面/MonkeyFaceMerging/Rhesus数据库/gray6.png.txt\")\n",
    "img_path=\"/home/fengchao/桌面/MonkeyFaceMerging/Rhesus数据库/gray6.png\"\n",
    "\n",
    "#旋转过的点和图片\n",
    "points1=read_points(\"/home/fengchao/桌面/MonkeyFaceMerging/processedimg/m1.jpg.txt\")\n",
    "img_path1=\"/home/fengchao/桌面/MonkeyFaceMerging/processedimg/m1.jpg\"\n",
    "\n",
    "# draw_point(points,img_path)\n",
    "draw_point(points1,img_path1)\n",
    "\n",
    "# compare_point(points,points1,img_path1)"
   ]
  },
  {
   "cell_type": "code",
   "execution_count": null,
   "metadata": {},
   "outputs": [],
   "source": []
  }
 ],
 "metadata": {
  "kernelspec": {
   "display_name": "Python 3",
   "language": "python",
   "name": "python3"
  },
  "language_info": {
   "codemirror_mode": {
    "name": "ipython",
    "version": 3
   },
   "file_extension": ".py",
   "mimetype": "text/x-python",
   "name": "python",
   "nbconvert_exporter": "python",
   "pygments_lexer": "ipython3",
   "version": "3.6.2"
  }
 },
 "nbformat": 4,
 "nbformat_minor": 2
}
