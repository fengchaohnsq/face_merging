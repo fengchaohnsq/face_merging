{
 "cells": [
  {
   "cell_type": "code",
   "execution_count": 1,
   "metadata": {},
   "outputs": [],
   "source": [
    "import dlib         # 人脸识别的库 Dlib\n",
    "import numpy as np  # 数据处理的库 numpy\n",
    "import cv2         # 图像处理的库 OpenCv"
   ]
  },
  {
   "cell_type": "code",
   "execution_count": 2,
   "metadata": {},
   "outputs": [],
   "source": [
    "# Dlib 检测器和预测器\n",
    "detector = dlib.get_frontal_face_detector()\n",
    "predictor = dlib.shape_predictor('shape_predictor_68_face_landmarks.dat')"
   ]
  },
  {
   "cell_type": "code",
   "execution_count": 3,
   "metadata": {},
   "outputs": [],
   "source": [
    "# 读取图像文件\n",
    "img_rd = cv2.imread('/home/fengchao/桌面/MonkeyFaceMerging/Rhesus数据库/h1.png')\n",
    "img_gray = cv2.cvtColor(img_rd, cv2.COLOR_RGB2GRAY)"
   ]
  },
  {
   "cell_type": "code",
   "execution_count": 4,
   "metadata": {},
   "outputs": [
    {
     "name": "stdout",
     "output_type": "stream",
     "text": [
      "[[ 844 1034]\n",
      " [ 851 1192]\n",
      " [ 873 1355]\n",
      " [ 894 1521]\n",
      " [ 946 1673]\n",
      " [1044 1807]\n",
      " [1167 1921]\n",
      " [1306 2014]\n",
      " [1461 2037]\n",
      " [1611 1999]\n",
      " [1728 1889]\n",
      " [1832 1763]\n",
      " [1908 1626]\n",
      " [1941 1479]\n",
      " [1957 1321]\n",
      " [1968 1164]\n",
      " [1962 1008]\n",
      " [ 949 1012]\n",
      " [1020  936]\n",
      " [1125  912]\n",
      " [1236  931]\n",
      " [1339  971]\n",
      " [1495  957]\n",
      " [1594  906]\n",
      " [1698  889]\n",
      " [1799  908]\n",
      " [1871  976]\n",
      " [1415 1081]\n",
      " [1418 1198]\n",
      " [1421 1317]\n",
      " [1425 1433]\n",
      " [1301 1483]\n",
      " [1361 1507]\n",
      " [1427 1529]\n",
      " [1492 1503]\n",
      " [1549 1477]\n",
      " [1091 1089]\n",
      " [1149 1056]\n",
      " [1228 1059]\n",
      " [1295 1104]\n",
      " [1224 1123]\n",
      " [1148 1124]\n",
      " [1543 1098]\n",
      " [1606 1054]\n",
      " [1681 1054]\n",
      " [1739 1078]\n",
      " [1687 1112]\n",
      " [1613 1115]\n",
      " [1220 1651]\n",
      " [1297 1633]\n",
      " [1374 1620]\n",
      " [1432 1634]\n",
      " [1496 1614]\n",
      " [1575 1620]\n",
      " [1645 1627]\n",
      " [1582 1697]\n",
      " [1511 1744]\n",
      " [1445 1758]\n",
      " [1383 1754]\n",
      " [1303 1718]\n",
      " [1255 1663]\n",
      " [1375 1674]\n",
      " [1434 1678]\n",
      " [1500 1665]\n",
      " [1614 1638]\n",
      " [1504 1661]\n",
      " [1440 1680]\n",
      " [1382 1670]]\n"
     ]
    }
   ],
   "source": [
    "# 人脸数\n",
    "faces = detector(img_gray, 0)\n",
    "# 标 68 个点\n",
    "if len(faces) != 0:\n",
    "    # 检测到人脸\n",
    "    for i in range(len(faces)):\n",
    "        # 取特征点坐标 Landmarks 有136组数据的二维数组，每组都是H,W坐标\n",
    "        landmarks = np.matrix([[p.x, p.y] for p in predictor(img_rd, faces[i]).parts()])\n",
    "\n",
    "    print(landmarks);     \n",
    "    np.savetxt('/home/fengchao/桌面/MonkeyFaceMerging/Rhesus数据库/h1.png.txt',landmarks,fmt='%i %i')"
   ]
  },
  {
   "cell_type": "code",
   "execution_count": null,
   "metadata": {},
   "outputs": [],
   "source": []
  }
 ],
 "metadata": {
  "kernelspec": {
   "display_name": "Python 3",
   "language": "python",
   "name": "python3"
  },
  "language_info": {
   "codemirror_mode": {
    "name": "ipython",
    "version": 3
   },
   "file_extension": ".py",
   "mimetype": "text/x-python",
   "name": "python",
   "nbconvert_exporter": "python",
   "pygments_lexer": "ipython3",
   "version": "3.6.2"
  }
 },
 "nbformat": 4,
 "nbformat_minor": 2
}
