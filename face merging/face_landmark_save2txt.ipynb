{
 "cells": [
  {
   "cell_type": "code",
   "execution_count": 5,
   "metadata": {},
   "outputs": [],
   "source": [
    "import dlib         # 人脸识别的库 Dlib\n",
    "import numpy as np  # 数据处理的库 numpy\n",
    "import cv2         # 图像处理的库 OpenCv"
   ]
  },
  {
   "cell_type": "code",
   "execution_count": 6,
   "metadata": {},
   "outputs": [],
   "source": [
    "# Dlib 检测器和预测器\n",
    "detector = dlib.get_frontal_face_detector()\n",
    "predictor = dlib.shape_predictor('shape_predictor_68_face_landmarks.dat')"
   ]
  },
  {
   "cell_type": "code",
   "execution_count": 7,
   "metadata": {},
   "outputs": [],
   "source": [
    "# 读取图像文件\n",
    "img_rd = cv2.imread(\"/home/fengchao/桌面/11.png\")\n",
    "img_gray = cv2.cvtColor(img_rd, cv2.COLOR_RGB2GRAY)"
   ]
  },
  {
   "cell_type": "code",
   "execution_count": 8,
   "metadata": {},
   "outputs": [
    {
     "name": "stdout",
     "output_type": "stream",
     "text": [
      "[[216 201]\n",
      " [218 240]\n",
      " [225 277]\n",
      " [235 313]\n",
      " [251 347]\n",
      " [277 378]\n",
      " [308 402]\n",
      " [341 423]\n",
      " [379 428]\n",
      " [417 420]\n",
      " [448 397]\n",
      " [476 371]\n",
      " [499 339]\n",
      " [512 304]\n",
      " [518 267]\n",
      " [521 228]\n",
      " [519 188]\n",
      " [245 187]\n",
      " [266 169]\n",
      " [295 164]\n",
      " [325 171]\n",
      " [354 182]\n",
      " [387 180]\n",
      " [413 167]\n",
      " [441 157]\n",
      " [471 157]\n",
      " [493 174]\n",
      " [372 197]\n",
      " [373 222]\n",
      " [374 246]\n",
      " [375 272]\n",
      " [346 286]\n",
      " [360 292]\n",
      " [376 297]\n",
      " [392 291]\n",
      " [406 284]\n",
      " [279 203]\n",
      " [296 196]\n",
      " [314 196]\n",
      " [332 203]\n",
      " [313 204]\n",
      " [296 205]\n",
      " [411 199]\n",
      " [428 190]\n",
      " [445 188]\n",
      " [464 194]\n",
      " [447 198]\n",
      " [429 199]\n",
      " [326 333]\n",
      " [341 317]\n",
      " [359 311]\n",
      " [377 315]\n",
      " [392 310]\n",
      " [409 315]\n",
      " [426 329]\n",
      " [410 346]\n",
      " [394 354]\n",
      " [378 357]\n",
      " [359 355]\n",
      " [342 347]\n",
      " [336 332]\n",
      " [359 327]\n",
      " [377 329]\n",
      " [392 326]\n",
      " [416 328]\n",
      " [393 330]\n",
      " [377 333]\n",
      " [360 331]]\n"
     ]
    }
   ],
   "source": [
    "# 人脸数\n",
    "faces = detector(img_gray, 0)\n",
    "# 标 68 个点\n",
    "if len(faces) != 0:\n",
    "    # 检测到人脸\n",
    "    for i in range(len(faces)):\n",
    "        # 取特征点坐标 Landmarks 有136组数据的二维数组，每组都是H,W坐标\n",
    "        landmarks = np.matrix([[p.x, p.y] for p in predictor(img_rd, faces[i]).parts()])\n",
    "\n",
    "    print(landmarks);     \n",
    "    np.savetxt(\"/home/fengchao/桌面/11.png.txt\",landmarks,fmt='%i %i')"
   ]
  },
  {
   "cell_type": "code",
   "execution_count": null,
   "metadata": {},
   "outputs": [],
   "source": []
  }
 ],
 "metadata": {
  "kernelspec": {
   "display_name": "Python 3",
   "language": "python",
   "name": "python3"
  },
  "language_info": {
   "codemirror_mode": {
    "name": "ipython",
    "version": 3
   },
   "file_extension": ".py",
   "mimetype": "text/x-python",
   "name": "python",
   "nbconvert_exporter": "python",
   "pygments_lexer": "ipython3",
   "version": "3.6.2"
  }
 },
 "nbformat": 4,
 "nbformat_minor": 2
}
